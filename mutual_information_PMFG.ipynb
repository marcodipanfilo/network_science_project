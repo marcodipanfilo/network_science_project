{
 "cells": [
  {
   "cell_type": "code",
   "execution_count": 1,
   "id": "50766cca",
   "metadata": {},
   "outputs": [],
   "source": [
    "import numpy as np\n",
    "import matplotlib.pyplot as plt\n",
    "import networkx as nx\n",
    "import pandas as pd\n",
    "import seaborn as sns\n",
    "import datetime\n",
    "\n",
    "# import custom functions\n",
    "from corrmat_functions import *"
   ]
  },
  {
   "cell_type": "code",
   "execution_count": 2,
   "id": "248aea89",
   "metadata": {},
   "outputs": [],
   "source": [
    "# load network\n",
    "pmfgs = np.load('data/pmfgs.npy', allow_pickle='TRUE').item()  # PMFGs"
   ]
  },
  {
   "cell_type": "code",
   "execution_count": 3,
   "id": "1c1c6b3a",
   "metadata": {},
   "outputs": [],
   "source": [
    "#changing pmfgs so it has the same layout as msts and tns\n",
    "\n",
    "#setting tickers as node attributes for pmfgs\n",
    "for i, (k,pmfg) in enumerate(sorted(pmfgs.items())):\n",
    "    tickers = {index: stockname for index, stockname in enumerate(pmfg['ticker'])}\n",
    "    nx.set_node_attributes(pmfg['network'], tickers , 'ticker')\n",
    "\n",
    "#changing dictionary structure to { <timestamp> : <pmfg> }\n",
    "pmfgs = {k:v['network'] for k,v in pmfgs.items()}"
   ]
  },
  {
   "cell_type": "code",
   "execution_count": 6,
   "id": "2f95b6e5",
   "metadata": {},
   "outputs": [],
   "source": [
    "def laplace(x, N, d = 2, alpha = 1):\n",
    "    return (x + alpha) / (N + alpha * d)\n",
    "\n",
    "def mutual_info(g1, g2):\n",
    "    # !!! ONLY apply to networks w/ same vertices\n",
    "\n",
    "    # to adjacency matrices\n",
    "    adj_1 = nx.adjacency_matrix(g1).toarray()\n",
    "    adj_2 = nx.adjacency_matrix(g2).toarray()\n",
    "\n",
    "    # binarilize the adjacency matrices\n",
    "    adj_1[adj_1 != 0] = 1\n",
    "    adj_2[adj_2 != 0] = 1\n",
    "\n",
    "    # independent prob\n",
    "    max_link = (adj_1.shape[0] * adj_1.shape[1] - min(adj_1.shape[0], adj_1.shape[1]))\n",
    "\n",
    "    pi_1_1 = laplace((2 * np.sum(adj_1)), max_link)\n",
    "    pi_1_0 = 1 - pi_1_1\n",
    "    pi_2_1 = laplace((2 * np.sum(adj_2)), max_link)\n",
    "    pi_2_0 = 1 - pi_2_1\n",
    "    prob_ind_1 = np.array([pi_1_1, pi_1_0])\n",
    "    prob_ind_2 = np.array([pi_2_1, pi_2_0])\n",
    "    prob_ind_matrix = np.outer(prob_ind_1.reshape(-1, 1),prob_ind_2) # prob_ind_1.T @ prob_ind_2 = \n",
    "                                                                # res = [p1(1) * p2(1), p1(1) * p2(0)],\n",
    "                                                                #       [p1(0) * p2(1), p1(0) * p2(0)]\n",
    "    prob_ind_flattened = prob_ind_matrix.flatten()\n",
    "\n",
    "    # joint prob\n",
    "    pj_1_1 = laplace((2 * np.sum(adj_1[adj_2 == 1])), max_link)\n",
    "    pj_1_0 = laplace((2 * (np.sum(adj_1) - np.sum(adj_1[adj_2 == 1]))), max_link)\n",
    "    pj_0_1 = laplace((2 * (np.sum(adj_2) - np.sum(adj_1[adj_2 == 1]))), max_link)\n",
    "    pj_0_0 = 1 - laplace((2 * (np.sum(adj_1) + np.sum(adj_2) - np.sum(adj_1[adj_2 == 1]))), max_link)\n",
    "    prob_joint = np.array([pj_1_1, pj_1_0, pj_0_1, pj_0_0])\n",
    "    \n",
    "\n",
    "    # Mutual info\n",
    "    I = prob_joint @ np.log(prob_joint / prob_ind_flattened) # (3) function (3) in the paper\n",
    "    \n",
    "    # normalization\n",
    "    H_x = -pi_1_0 * np.log(pi_1_0) - pi_1_1 * np.log(pi_1_1)\n",
    "    H_y = -pi_2_0 * np.log(pi_2_0) - pi_2_1 * np.log(pi_2_1)\n",
    "    i = I / np.sqrt(H_x * H_y) # (4) function (4) in the paper\n",
    "    return i\n"
   ]
  },
  {
   "cell_type": "code",
   "execution_count": 7,
   "id": "bd69d9d8",
   "metadata": {},
   "outputs": [
    {
     "data": {
      "text/plain": [
       "0.08546366076602643"
      ]
     },
     "execution_count": 7,
     "metadata": {},
     "output_type": "execute_result"
    }
   ],
   "source": [
    "date_1 = '2020-02-26 01-00-00'\n",
    "date_2 = '2020-03-04 01-00-00'\n",
    "g1 = pmfgs[date_1]\n",
    "g2 = pmfgs[date_2]\n",
    "\n",
    "mutual_info(g1, g2)"
   ]
  },
  {
   "cell_type": "code",
   "execution_count": 8,
   "id": "845465d7",
   "metadata": {},
   "outputs": [
    {
     "data": {
      "text/plain": [
       "0.9742935924280898"
      ]
     },
     "execution_count": 8,
     "metadata": {},
     "output_type": "execute_result"
    }
   ],
   "source": [
    "mutual_info(g1, g1)"
   ]
  }
 ],
 "metadata": {
  "kernelspec": {
   "display_name": "Python 3 (ipykernel)",
   "language": "python",
   "name": "python3"
  },
  "language_info": {
   "codemirror_mode": {
    "name": "ipython",
    "version": 3
   },
   "file_extension": ".py",
   "mimetype": "text/x-python",
   "name": "python",
   "nbconvert_exporter": "python",
   "pygments_lexer": "ipython3",
   "version": "3.8.8"
  }
 },
 "nbformat": 4,
 "nbformat_minor": 5
}
